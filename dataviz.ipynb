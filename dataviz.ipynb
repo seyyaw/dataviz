{
 "cells": [
  {
   "cell_type": "code",
   "execution_count": null,
   "metadata": {},
   "outputs": [],
   "source": [
    "# https://www.udemy.com/course/learning-python-for-data-analysis-and-visualization/\n",
    "# https://www.practicaldatascience.org/html/class_schedule.html"
   ]
  },
  {
   "cell_type": "markdown",
   "metadata": {
    "slideshow": {
     "slide_type": "slide"
    }
   },
   "source": [
    "# Introduction to data analysis and visualization using Python\n",
    "* Introduction to Python\n",
    "* Installation Setup\n",
    "* Learning Numpy\n",
    "* Introduction to Pandas\n",
    "* Data Processing\n",
    "* Statistical Data Analysis\n",
    "* Data Visualization\n",
    "* Machine Learning"
   ]
  },
  {
   "cell_type": "markdown",
   "metadata": {
    "slideshow": {
     "slide_type": "slide"
    }
   },
   "source": [
    "# Introduction to Python\n"
   ]
  },
  {
   "cell_type": "markdown",
   "metadata": {
    "slideshow": {
     "slide_type": "slide"
    }
   },
   "source": [
    "# Installation Setup\n",
    "\n",
    "### The most up-to-date and current source code, binaries, documentation, news, etc., is available on the official website of Python https://www.python.org/"
   ]
  },
  {
   "cell_type": "markdown",
   "metadata": {
    "slideshow": {
     "slide_type": "subslide"
    }
   },
   "source": [
    "## the easier way of installing Python is to install Anaconda https://docs.anaconda.com/anaconda/install/"
   ]
  },
  {
   "cell_type": "markdown",
   "metadata": {
    "slideshow": {
     "slide_type": "slide"
    }
   },
   "source": [
    "# Learning Numpy"
   ]
  },
  {
   "cell_type": "markdown",
   "metadata": {
    "slideshow": {
     "slide_type": "slide"
    }
   },
   "source": [
    "# Introduction to Pandas"
   ]
  },
  {
   "cell_type": "markdown",
   "metadata": {
    "slideshow": {
     "slide_type": "slide"
    }
   },
   "source": [
    "# Data Processing\n",
    "* Big Data\n",
    "* Data input\n",
    "* Processing Web Data"
   ]
  },
  {
   "cell_type": "markdown",
   "metadata": {
    "slideshow": {
     "slide_type": "slide"
    }
   },
   "source": [
    "# Statistical Data Analysis"
   ]
  },
  {
   "cell_type": "code",
   "execution_count": 4,
   "metadata": {},
   "outputs": [],
   "source": [
    "import pandas as pd\n",
    "# World bank development indicator -- Ethiopia\n",
    "# https://github.com/ksopyla/Pandas_Worldbank_GDP\n",
    "wbdid = pd.read_csv(\"wbdi/51809288-e245-4ece-8efa-90b4a419bd85_Data.csv\")"
   ]
  },
  {
   "cell_type": "code",
   "execution_count": 6,
   "metadata": {},
   "outputs": [
    {
     "data": {
      "text/plain": [
       "Index(['Country Name', 'Country Code', 'Series Name', 'Series Code',\n",
       "       '1990 [YR1990]', '2000 [YR2000]', '2011 [YR2011]', '2012 [YR2012]',\n",
       "       '2013 [YR2013]', '2014 [YR2014]', '2015 [YR2015]', '2016 [YR2016]',\n",
       "       '2017 [YR2017]', '2018 [YR2018]', '2019 [YR2019]', '2020 [YR2020]'],\n",
       "      dtype='object')"
      ]
     },
     "execution_count": 6,
     "metadata": {},
     "output_type": "execute_result"
    }
   ],
   "source": [
    "# show the columns\n",
    "wbdid.columns"
   ]
  },
  {
   "cell_type": "code",
   "execution_count": 7,
   "metadata": {},
   "outputs": [
    {
     "data": {
      "text/html": [
       "<div>\n",
       "<style scoped>\n",
       "    .dataframe tbody tr th:only-of-type {\n",
       "        vertical-align: middle;\n",
       "    }\n",
       "\n",
       "    .dataframe tbody tr th {\n",
       "        vertical-align: top;\n",
       "    }\n",
       "\n",
       "    .dataframe thead th {\n",
       "        text-align: right;\n",
       "    }\n",
       "</style>\n",
       "<table border=\"1\" class=\"dataframe\">\n",
       "  <thead>\n",
       "    <tr style=\"text-align: right;\">\n",
       "      <th></th>\n",
       "      <th>Country Name</th>\n",
       "      <th>Country Code</th>\n",
       "      <th>Series Name</th>\n",
       "      <th>Series Code</th>\n",
       "      <th>1990 [YR1990]</th>\n",
       "      <th>2000 [YR2000]</th>\n",
       "      <th>2011 [YR2011]</th>\n",
       "      <th>2012 [YR2012]</th>\n",
       "      <th>2013 [YR2013]</th>\n",
       "      <th>2014 [YR2014]</th>\n",
       "      <th>2015 [YR2015]</th>\n",
       "      <th>2016 [YR2016]</th>\n",
       "      <th>2017 [YR2017]</th>\n",
       "      <th>2018 [YR2018]</th>\n",
       "      <th>2019 [YR2019]</th>\n",
       "      <th>2020 [YR2020]</th>\n",
       "    </tr>\n",
       "  </thead>\n",
       "  <tbody>\n",
       "    <tr>\n",
       "      <th>0</th>\n",
       "      <td>Ethiopia</td>\n",
       "      <td>ETH</td>\n",
       "      <td>Population, total</td>\n",
       "      <td>SP.POP.TOTL</td>\n",
       "      <td>47887865</td>\n",
       "      <td>66224804</td>\n",
       "      <td>90139927</td>\n",
       "      <td>92726971</td>\n",
       "      <td>95385785</td>\n",
       "      <td>98094253</td>\n",
       "      <td>100835458</td>\n",
       "      <td>103603501</td>\n",
       "      <td>106400024</td>\n",
       "      <td>109224559</td>\n",
       "      <td>112078730</td>\n",
       "      <td>..</td>\n",
       "    </tr>\n",
       "    <tr>\n",
       "      <th>1</th>\n",
       "      <td>Ethiopia</td>\n",
       "      <td>ETH</td>\n",
       "      <td>Population growth (annual %)</td>\n",
       "      <td>SP.POP.GROW</td>\n",
       "      <td>3.43186437219509</td>\n",
       "      <td>2.88267254878244</td>\n",
       "      <td>2.81261034549877</td>\n",
       "      <td>2.82961721422517</td>\n",
       "      <td>2.82701836060576</td>\n",
       "      <td>2.79992186176293</td>\n",
       "      <td>2.75612778784043</td>\n",
       "      <td>2.70810630355162</td>\n",
       "      <td>2.66346797807375</td>\n",
       "      <td>2.62001348207265</td>\n",
       "      <td>2.57956334803926</td>\n",
       "      <td>..</td>\n",
       "    </tr>\n",
       "    <tr>\n",
       "      <th>2</th>\n",
       "      <td>Ethiopia</td>\n",
       "      <td>ETH</td>\n",
       "      <td>Surface area (sq. km)</td>\n",
       "      <td>AG.SRF.TOTL.K2</td>\n",
       "      <td>1104300</td>\n",
       "      <td>1104300</td>\n",
       "      <td>1104300</td>\n",
       "      <td>1104300</td>\n",
       "      <td>1104300</td>\n",
       "      <td>1104300</td>\n",
       "      <td>1104300</td>\n",
       "      <td>1104300</td>\n",
       "      <td>1104300</td>\n",
       "      <td>1104300</td>\n",
       "      <td>..</td>\n",
       "      <td>..</td>\n",
       "    </tr>\n",
       "    <tr>\n",
       "      <th>3</th>\n",
       "      <td>Ethiopia</td>\n",
       "      <td>ETH</td>\n",
       "      <td>Population density (people per sq. km of land ...</td>\n",
       "      <td>EN.POP.DNST</td>\n",
       "      <td>47.887865</td>\n",
       "      <td>66.224804</td>\n",
       "      <td>90.139927</td>\n",
       "      <td>92.726971</td>\n",
       "      <td>95.385785</td>\n",
       "      <td>98.094253</td>\n",
       "      <td>100.835458</td>\n",
       "      <td>103.603501</td>\n",
       "      <td>106.400024</td>\n",
       "      <td>109.224559</td>\n",
       "      <td>..</td>\n",
       "      <td>..</td>\n",
       "    </tr>\n",
       "    <tr>\n",
       "      <th>4</th>\n",
       "      <td>Ethiopia</td>\n",
       "      <td>ETH</td>\n",
       "      <td>Poverty headcount ratio at national poverty li...</td>\n",
       "      <td>SI.POV.NAHC</td>\n",
       "      <td>..</td>\n",
       "      <td>..</td>\n",
       "      <td>..</td>\n",
       "      <td>..</td>\n",
       "      <td>..</td>\n",
       "      <td>..</td>\n",
       "      <td>23.5</td>\n",
       "      <td>..</td>\n",
       "      <td>..</td>\n",
       "      <td>..</td>\n",
       "      <td>..</td>\n",
       "      <td>..</td>\n",
       "    </tr>\n",
       "  </tbody>\n",
       "</table>\n",
       "</div>"
      ],
      "text/plain": [
       "  Country Name Country Code  \\\n",
       "0     Ethiopia          ETH   \n",
       "1     Ethiopia          ETH   \n",
       "2     Ethiopia          ETH   \n",
       "3     Ethiopia          ETH   \n",
       "4     Ethiopia          ETH   \n",
       "\n",
       "                                         Series Name     Series Code  \\\n",
       "0                                  Population, total     SP.POP.TOTL   \n",
       "1                       Population growth (annual %)     SP.POP.GROW   \n",
       "2                              Surface area (sq. km)  AG.SRF.TOTL.K2   \n",
       "3  Population density (people per sq. km of land ...     EN.POP.DNST   \n",
       "4  Poverty headcount ratio at national poverty li...     SI.POV.NAHC   \n",
       "\n",
       "      1990 [YR1990]     2000 [YR2000]     2011 [YR2011]     2012 [YR2012]  \\\n",
       "0          47887865          66224804          90139927          92726971   \n",
       "1  3.43186437219509  2.88267254878244  2.81261034549877  2.82961721422517   \n",
       "2           1104300           1104300           1104300           1104300   \n",
       "3         47.887865         66.224804         90.139927         92.726971   \n",
       "4                ..                ..                ..                ..   \n",
       "\n",
       "      2013 [YR2013]     2014 [YR2014]     2015 [YR2015]     2016 [YR2016]  \\\n",
       "0          95385785          98094253         100835458         103603501   \n",
       "1  2.82701836060576  2.79992186176293  2.75612778784043  2.70810630355162   \n",
       "2           1104300           1104300           1104300           1104300   \n",
       "3         95.385785         98.094253        100.835458        103.603501   \n",
       "4                ..                ..              23.5                ..   \n",
       "\n",
       "      2017 [YR2017]     2018 [YR2018]     2019 [YR2019] 2020 [YR2020]  \n",
       "0         106400024         109224559         112078730            ..  \n",
       "1  2.66346797807375  2.62001348207265  2.57956334803926            ..  \n",
       "2           1104300           1104300                ..            ..  \n",
       "3        106.400024        109.224559                ..            ..  \n",
       "4                ..                ..                ..            ..  "
      ]
     },
     "execution_count": 7,
     "metadata": {},
     "output_type": "execute_result"
    }
   ],
   "source": [
    "wbdid.head()"
   ]
  },
  {
   "cell_type": "code",
   "execution_count": 11,
   "metadata": {},
   "outputs": [],
   "source": [
    "import numpy as np\n",
    "# replace '..' with NAN\n",
    "wbdid.replace('..',np.nan,inplace=True)"
   ]
  },
  {
   "cell_type": "code",
   "execution_count": 12,
   "metadata": {
    "scrolled": true
   },
   "outputs": [
    {
     "data": {
      "text/html": [
       "<div>\n",
       "<style scoped>\n",
       "    .dataframe tbody tr th:only-of-type {\n",
       "        vertical-align: middle;\n",
       "    }\n",
       "\n",
       "    .dataframe tbody tr th {\n",
       "        vertical-align: top;\n",
       "    }\n",
       "\n",
       "    .dataframe thead th {\n",
       "        text-align: right;\n",
       "    }\n",
       "</style>\n",
       "<table border=\"1\" class=\"dataframe\">\n",
       "  <thead>\n",
       "    <tr style=\"text-align: right;\">\n",
       "      <th></th>\n",
       "      <th>Country Name</th>\n",
       "      <th>Country Code</th>\n",
       "      <th>Series Name</th>\n",
       "      <th>Series Code</th>\n",
       "      <th>1990 [YR1990]</th>\n",
       "      <th>2000 [YR2000]</th>\n",
       "      <th>2011 [YR2011]</th>\n",
       "      <th>2012 [YR2012]</th>\n",
       "      <th>2013 [YR2013]</th>\n",
       "      <th>2014 [YR2014]</th>\n",
       "      <th>2015 [YR2015]</th>\n",
       "      <th>2016 [YR2016]</th>\n",
       "      <th>2017 [YR2017]</th>\n",
       "      <th>2018 [YR2018]</th>\n",
       "      <th>2019 [YR2019]</th>\n",
       "      <th>2020 [YR2020]</th>\n",
       "    </tr>\n",
       "  </thead>\n",
       "  <tbody>\n",
       "    <tr>\n",
       "      <th>0</th>\n",
       "      <td>Ethiopia</td>\n",
       "      <td>ETH</td>\n",
       "      <td>Population, total</td>\n",
       "      <td>SP.POP.TOTL</td>\n",
       "      <td>47887865</td>\n",
       "      <td>66224804</td>\n",
       "      <td>90139927</td>\n",
       "      <td>92726971</td>\n",
       "      <td>95385785</td>\n",
       "      <td>98094253</td>\n",
       "      <td>100835458</td>\n",
       "      <td>103603501</td>\n",
       "      <td>106400024</td>\n",
       "      <td>109224559</td>\n",
       "      <td>112078730</td>\n",
       "      <td>NaN</td>\n",
       "    </tr>\n",
       "    <tr>\n",
       "      <th>1</th>\n",
       "      <td>Ethiopia</td>\n",
       "      <td>ETH</td>\n",
       "      <td>Population growth (annual %)</td>\n",
       "      <td>SP.POP.GROW</td>\n",
       "      <td>3.43186437219509</td>\n",
       "      <td>2.88267254878244</td>\n",
       "      <td>2.81261034549877</td>\n",
       "      <td>2.82961721422517</td>\n",
       "      <td>2.82701836060576</td>\n",
       "      <td>2.79992186176293</td>\n",
       "      <td>2.75612778784043</td>\n",
       "      <td>2.70810630355162</td>\n",
       "      <td>2.66346797807375</td>\n",
       "      <td>2.62001348207265</td>\n",
       "      <td>2.57956334803926</td>\n",
       "      <td>NaN</td>\n",
       "    </tr>\n",
       "    <tr>\n",
       "      <th>2</th>\n",
       "      <td>Ethiopia</td>\n",
       "      <td>ETH</td>\n",
       "      <td>Surface area (sq. km)</td>\n",
       "      <td>AG.SRF.TOTL.K2</td>\n",
       "      <td>1104300</td>\n",
       "      <td>1104300</td>\n",
       "      <td>1104300</td>\n",
       "      <td>1104300</td>\n",
       "      <td>1104300</td>\n",
       "      <td>1104300</td>\n",
       "      <td>1104300</td>\n",
       "      <td>1104300</td>\n",
       "      <td>1104300</td>\n",
       "      <td>1104300</td>\n",
       "      <td>NaN</td>\n",
       "      <td>NaN</td>\n",
       "    </tr>\n",
       "    <tr>\n",
       "      <th>3</th>\n",
       "      <td>Ethiopia</td>\n",
       "      <td>ETH</td>\n",
       "      <td>Population density (people per sq. km of land ...</td>\n",
       "      <td>EN.POP.DNST</td>\n",
       "      <td>47.887865</td>\n",
       "      <td>66.224804</td>\n",
       "      <td>90.139927</td>\n",
       "      <td>92.726971</td>\n",
       "      <td>95.385785</td>\n",
       "      <td>98.094253</td>\n",
       "      <td>100.835458</td>\n",
       "      <td>103.603501</td>\n",
       "      <td>106.400024</td>\n",
       "      <td>109.224559</td>\n",
       "      <td>NaN</td>\n",
       "      <td>NaN</td>\n",
       "    </tr>\n",
       "    <tr>\n",
       "      <th>4</th>\n",
       "      <td>Ethiopia</td>\n",
       "      <td>ETH</td>\n",
       "      <td>Poverty headcount ratio at national poverty li...</td>\n",
       "      <td>SI.POV.NAHC</td>\n",
       "      <td>NaN</td>\n",
       "      <td>NaN</td>\n",
       "      <td>NaN</td>\n",
       "      <td>NaN</td>\n",
       "      <td>NaN</td>\n",
       "      <td>NaN</td>\n",
       "      <td>23.5</td>\n",
       "      <td>NaN</td>\n",
       "      <td>NaN</td>\n",
       "      <td>NaN</td>\n",
       "      <td>NaN</td>\n",
       "      <td>NaN</td>\n",
       "    </tr>\n",
       "  </tbody>\n",
       "</table>\n",
       "</div>"
      ],
      "text/plain": [
       "  Country Name Country Code  \\\n",
       "0     Ethiopia          ETH   \n",
       "1     Ethiopia          ETH   \n",
       "2     Ethiopia          ETH   \n",
       "3     Ethiopia          ETH   \n",
       "4     Ethiopia          ETH   \n",
       "\n",
       "                                         Series Name     Series Code  \\\n",
       "0                                  Population, total     SP.POP.TOTL   \n",
       "1                       Population growth (annual %)     SP.POP.GROW   \n",
       "2                              Surface area (sq. km)  AG.SRF.TOTL.K2   \n",
       "3  Population density (people per sq. km of land ...     EN.POP.DNST   \n",
       "4  Poverty headcount ratio at national poverty li...     SI.POV.NAHC   \n",
       "\n",
       "      1990 [YR1990]     2000 [YR2000]     2011 [YR2011]     2012 [YR2012]  \\\n",
       "0          47887865          66224804          90139927          92726971   \n",
       "1  3.43186437219509  2.88267254878244  2.81261034549877  2.82961721422517   \n",
       "2           1104300           1104300           1104300           1104300   \n",
       "3         47.887865         66.224804         90.139927         92.726971   \n",
       "4               NaN               NaN               NaN               NaN   \n",
       "\n",
       "      2013 [YR2013]     2014 [YR2014]     2015 [YR2015]     2016 [YR2016]  \\\n",
       "0          95385785          98094253         100835458         103603501   \n",
       "1  2.82701836060576  2.79992186176293  2.75612778784043  2.70810630355162   \n",
       "2           1104300           1104300           1104300           1104300   \n",
       "3         95.385785         98.094253        100.835458        103.603501   \n",
       "4               NaN               NaN              23.5               NaN   \n",
       "\n",
       "      2017 [YR2017]     2018 [YR2018]     2019 [YR2019]  2020 [YR2020]  \n",
       "0         106400024         109224559         112078730            NaN  \n",
       "1  2.66346797807375  2.62001348207265  2.57956334803926            NaN  \n",
       "2           1104300           1104300               NaN            NaN  \n",
       "3        106.400024        109.224559               NaN            NaN  \n",
       "4               NaN               NaN               NaN            NaN  "
      ]
     },
     "execution_count": 12,
     "metadata": {},
     "output_type": "execute_result"
    }
   ],
   "source": [
    "wbdid.head()"
   ]
  },
  {
   "cell_type": "code",
   "execution_count": null,
   "metadata": {},
   "outputs": [],
   "source": []
  },
  {
   "cell_type": "code",
   "execution_count": null,
   "metadata": {},
   "outputs": [],
   "source": []
  },
  {
   "cell_type": "code",
   "execution_count": null,
   "metadata": {},
   "outputs": [],
   "source": []
  },
  {
   "cell_type": "code",
   "execution_count": null,
   "metadata": {},
   "outputs": [],
   "source": []
  },
  {
   "cell_type": "code",
   "execution_count": null,
   "metadata": {},
   "outputs": [],
   "source": []
  },
  {
   "cell_type": "markdown",
   "metadata": {
    "slideshow": {
     "slide_type": "slide"
    }
   },
   "source": [
    "# Data Visualization"
   ]
  },
  {
   "cell_type": "code",
   "execution_count": 13,
   "metadata": {
    "code_folding": []
   },
   "outputs": [],
   "source": [
    "# https://www.tutorialspoint.com/python_data_science/python_box_plots.htm"
   ]
  },
  {
   "cell_type": "markdown",
   "metadata": {
    "slideshow": {
     "slide_type": "slide"
    }
   },
   "source": [
    "# Machine Learning\n",
    "* Introduction to ML \n",
    "* Machine Learning with sckikit-learn"
   ]
  },
  {
   "cell_type": "code",
   "execution_count": null,
   "metadata": {
    "slideshow": {
     "slide_type": "slide"
    }
   },
   "outputs": [],
   "source": []
  }
 ],
 "metadata": {
  "kernelspec": {
   "display_name": "Python 3",
   "language": "python",
   "name": "python3"
  },
  "language_info": {
   "codemirror_mode": {
    "name": "ipython",
    "version": 3
   },
   "file_extension": ".py",
   "mimetype": "text/x-python",
   "name": "python",
   "nbconvert_exporter": "python",
   "pygments_lexer": "ipython3",
   "version": "3.8.3"
  },
  "varInspector": {
   "cols": {
    "lenName": 16,
    "lenType": 16,
    "lenVar": 40
   },
   "kernels_config": {
    "python": {
     "delete_cmd_postfix": "",
     "delete_cmd_prefix": "del ",
     "library": "var_list.py",
     "varRefreshCmd": "print(var_dic_list())"
    },
    "r": {
     "delete_cmd_postfix": ") ",
     "delete_cmd_prefix": "rm(",
     "library": "var_list.r",
     "varRefreshCmd": "cat(var_dic_list()) "
    }
   },
   "types_to_exclude": [
    "module",
    "function",
    "builtin_function_or_method",
    "instance",
    "_Feature"
   ],
   "window_display": false
  }
 },
 "nbformat": 4,
 "nbformat_minor": 4
}
